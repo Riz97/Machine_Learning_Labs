{
 "cells": [
  {
   "cell_type": "markdown",
   "metadata": {
    "id": "Dwk5MYKxwROD"
   },
   "source": [
    "# Lab 3: Regularized Least Square\n",
    "In this lab, we focus on RLS to address linear regression problems. \n",
    "\n",
    "In this lab, we have to:\n",
    "- **(Task 1)** implement RLS to solve linear regression problems\n",
    "- **(Task 2)** observe performance of RLS changing the noise in the data and the regularization parameter\n",
    "- **(Task 3)** implement K-Fold Cross-Validation algorithm for RLS\n"
   ]
  },
  {
   "cell_type": "code",
   "execution_count": 2,
   "metadata": {},
   "outputs": [],
   "source": [
    "#Matteo Pastorino Ghezzi\n",
    "#Riccardo Caprile\n",
    "#Andrea Valli"
   ]
  },
  {
   "cell_type": "code",
   "execution_count": 3,
   "metadata": {
    "id": "-AZknZclwRON"
   },
   "outputs": [],
   "source": [
    "import numpy as np\n",
    "import matplotlib.pyplot as plt\n",
    "import scipy.linalg"
   ]
  },
  {
   "cell_type": "markdown",
   "metadata": {
    "id": "Phglnro_wROP"
   },
   "source": [
    "## Data generation\n",
    "To generate linear regression data, we use the `linearRegrFunction` introduced in Lab0."
   ]
  },
  {
   "cell_type": "code",
   "execution_count": 4,
   "metadata": {
    "id": "D6NVNK4OwROQ"
   },
   "outputs": [],
   "source": [
    "def linearRegrFunction(n, D, low_D, high_D, W, sigma_noise):\n",
    "    X = np.zeros((n,D))\n",
    "    for i in range(0, D):\n",
    "        X[:,i] = np.random.uniform(low_D[i], high_D[i], size=n)\n",
    "    \n",
    "    gauss_noise = np.random.normal(0, sigma_noise, size=(n,1))\n",
    "\n",
    "    Y = np.dot(X, W) + gauss_noise\n",
    "    \n",
    "    return X, Y "
   ]
  },
  {
   "cell_type": "markdown",
   "metadata": {
    "id": "Z_jB8UKvwROR"
   },
   "source": [
    "### Example: Noiseless dataset\n"
   ]
  },
  {
   "cell_type": "code",
   "execution_count": 5,
   "metadata": {
    "colab": {
     "base_uri": "https://localhost:8080/",
     "height": 313
    },
    "id": "lA-lyjUUwROS",
    "outputId": "ad63a469-7de5-449a-f3e2-105fa7575d86"
   },
   "outputs": [
    {
     "data": {
      "text/plain": [
       "<matplotlib.collections.PathCollection at 0x2817b51f610>"
      ]
     },
     "execution_count": 5,
     "metadata": {},
     "output_type": "execute_result"
    },
    {
     "data": {
      "image/png": "[encoded data removed]",
      "text/plain": [
       "<Figure size 432x288 with 1 Axes>"
      ]
     },
     "metadata": {
      "needs_background": "light"
     },
     "output_type": "display_data"
    }
   ],
   "source": [
    "n = 10\n",
    "D = 1\n",
    "low_D, high_D = [-1], [1]\n",
    "w = np.array(1.0).reshape(1, 1)\n",
    "noise_std = 0.0\n",
    "\n",
    "# Data generation\n",
    "X, Y = linearRegrFunction(n, D, low_D, high_D, w, noise_std)\n",
    "\n",
    "# Plot of the data\n",
    "_, ax = plt.subplots()\n",
    "ax.set_title(\"Linear Regression data without noise\")\n",
    "ax.set_xlabel(\"x\")\n",
    "ax.set_ylabel(\"y\")\n",
    "ax.scatter(X, Y)"
   ]
  },
  {
   "cell_type": "markdown",
   "metadata": {
    "id": "lT5e1-dXwROU"
   },
   "source": [
    "## Task 1: RLS regressor\n",
    "We want to implement the `regularizedLSTrain` function which train RLS regression.\n",
    "\n",
    "The signature of `regularizedLSTrain` is the following:\n",
    "\n",
    "`w = regularizedLSTrain(Xtr, Ytr, lam)`\n",
    "\n",
    "where:\n",
    "- **Xtr** are the training inputs\n",
    "- **Ytr** are the training outputs\n",
    "- **lam** is the regularization parameter $\\lambda$\n",
    "\n",
    "To implement this function, you will need to use the following functions from numpy:\n",
    "\n",
    "- [`np.linalg.cholesky`](https://numpy.org/doc/stable/reference/generated/numpy.linalg.cholesky.html)\n",
    "- [`scipy.linalg.solve_triangular`](https://docs.scipy.org/doc/scipy/reference/generated/scipy.linalg.solve_triangular.html)\n",
    "\n",
    "Consider \n",
    "\n",
    "**$(X_{tr}^\\intercal X_{tr} + \\lambda n I)w = X_{tr}^\\intercal Y_{tr}$**\n",
    "\n",
    "Let $A = X_{tr}^\\intercal X_{tr} + \\lambda n I$ and $b = X_{tr}^\\intercal Y_{tr}$, we can find $w$ with the following steps:\n",
    "1. First build the left-hand side matrix `A`, and the right-hand side matrix `b`.\n",
    "2. Compute the Cholesky decomposition of `A` (note that the numpy function will provide a lower-triangular matrix)\n",
    "3. You will have to solve two triangular systems, one using the Cholesky decomposition, and the other using its transpose."
   ]
  },
  {
   "cell_type": "code",
   "execution_count": 7,
   "metadata": {
    "id": "cYE9GTOJwROW"
   },
   "outputs": [],
   "source": [
    "def regularizedLSTrain(Xtr, Ytr, lam):\n",
    "    # A matrix\n",
    "    #n=np.shape(Xtr)\n",
    "    n,d=Xtr.shape\n",
    "    Xtr_trans=np.transpose(Xtr)\n",
    "    #I_matrix=np.identity(np.shape(Xtr))\n",
    "    I_matrix=np.eye(d)\n",
    "    #A = Xtr_trans*Xtr + lam*n*I_matrix\n",
    "    A = np.matmul(Xtr_trans,Xtr) + lam*n*I_matrix\n",
    "\n",
    "    # b matrix\n",
    "    #b=Xtr_trans*Ytr\n",
    "    b=np.matmul(Xtr_trans,Ytr)\n",
    "\n",
    "    A_dec=np.linalg.cholesky(A)\n",
    "    w1=scipy.linalg.solve_triangular(A_dec,b,lower=True)\n",
    "    w2 = scipy.linalg.solve_triangular(np.transpose(A_dec),w1,lower=True)\n",
    "\n",
    "    return w2"
   ]
  },
  {
   "cell_type": "markdown",
   "metadata": {
    "id": "DcOqEo6VwROX"
   },
   "source": [
    "We need also to implement a function `regularizedLSTest` which given a test set `Xte` and the `w` obtained using `regularizedLSTrain`, it returns `Ypred` containing the predictions"
   ]
  },
  {
   "cell_type": "code",
   "execution_count": 8,
   "metadata": {
    "id": "5D_YFxDSwROZ"
   },
   "outputs": [],
   "source": [
    "def regularizedLSTest(w, Xte):\n",
    "    #Xte_trans=np.transpose(Xte)\n",
    "    #Ypred=Xte_trans*w\n",
    "    Ypred=np.dot(Xte,w)\n",
    "    return Ypred"
   ]
  },
  {
   "cell_type": "markdown",
   "metadata": {
    "id": "SYNksxLSwROa"
   },
   "source": [
    "To evaluate the performance of RLS regressor, we need a function to estimate the error.\n",
    "\n",
    "Given two vectors `Ytrue` (real outputs) and `Ypred` (predicted outputs), we can measure the error obtained when predicting `Ypred` instead of `Ytrue` with the MSE (Mean Square Error)"
   ]
  },
  {
   "cell_type": "code",
   "execution_count": 9,
   "metadata": {
    "id": "jUpbpcm8wROa"
   },
   "outputs": [],
   "source": [
    "def calcError(Ypred, Ytrue):\n",
    "    return np.mean((Ypred-Ytrue)**2)"
   ]
  },
  {
   "cell_type": "markdown",
   "metadata": {
    "id": "aGQwMG8nwROb"
   },
   "source": [
    "Now we can build an easy example to observe how our model works:\n",
    "- Generate a training set with **ntrain** points and a test set with **ntest** points \n",
    "- Train RLS with `regularizedLSTrain` function and test it with `regularizedLSTest` on test set\n",
    "- Compute the training and test error "
   ]
  },
  {
   "cell_type": "code",
   "execution_count": 10,
   "metadata": {
    "colab": {
     "base_uri": "https://localhost:8080/"
    },
    "id": "j3PDED4EwROc",
    "outputId": "d023bad4-3e3c-43a9-d8bd-0ff530f3e9a2"
   },
   "outputs": [
    {
     "name": "stdout",
     "output_type": "stream",
     "text": [
      "[--] Training error: 0.010441399358877805\tTest error: 0.009769355759867974\n"
     ]
    }
   ],
   "source": [
    "ntrain = 100\n",
    "ntest = 50\n",
    "D = 1\n",
    "low_D = [-1] * D\n",
    "high_D = [5] * D\n",
    "rnd_state = np.random.RandomState(42)\n",
    "w = rnd_state.randn(D, 1) \n",
    "noise_std = 0.1\n",
    "\n",
    "lam = 1e-3\n",
    "\n",
    "# Generate a training set with ntrain points and a test set with ntest \n",
    "Xtr, Ytr = linearRegrFunction(ntrain,D,low_D,high_D,w,noise_std)\n",
    "Xte, Yte = linearRegrFunction(ntest,D,low_D,high_D,w,noise_std)\n",
    "\n",
    "# Train RLS\n",
    "w_RLS=regularizedLSTrain(Xtr,Ytr,lam)\n",
    "\n",
    "# Compute predictions on training and test set\n",
    "Ytr_pred = regularizedLSTest(w_RLS, Xtr)\n",
    "Yte_pred = regularizedLSTest(w_RLS, Xte)\n",
    "\n",
    "train_err = calcError(Ytr_pred, Ytr)\n",
    "test_err = calcError(Yte_pred, Yte)\n",
    "\n",
    "print(\"[--] Training error: {}\\tTest error: {}\".format(train_err, test_err))"
   ]
  },
  {
   "cell_type": "markdown",
   "metadata": {
    "id": "DpdHCpr0wROd"
   },
   "source": [
    "## Task 2: Changing $\\lambda$ and noise\n",
    "Now we can play with our model changing the noise level in the data and changing the $\\lambda$ parameter.\n",
    "\n",
    "Let's start by changing $\\lambda$ and fixing the other parameters."
   ]
  },
  {
   "cell_type": "code",
   "execution_count": 8,
   "metadata": {
    "colab": {
     "base_uri": "https://localhost:8080/",
     "height": 301
    },
    "id": "WHOWMIF3wROd",
    "outputId": "5533c8cc-4746-4baa-f0b2-3c071dff6321"
   },
   "outputs": [
    {
     "data": {
      "image/png": "[encoded data removed]",
      "text/plain": [
       "<Figure size 432x288 with 1 Axes>"
      ]
     },
     "metadata": {
      "needs_background": "light"
     },
     "output_type": "display_data"
    }
   ],
   "source": [
    "n = 1000\n",
    "D = 5\n",
    "low_D = [-5] * D\n",
    "high_D = [5] * D\n",
    "w = np.array([i for i in range(D)]).reshape(D, 1)\n",
    "noise_std = 0.1\n",
    "\n",
    "\n",
    "# Data generation\n",
    "Xtr, Ytr = linearRegrFunction(n,D,low_D,high_D,w,noise_std)\n",
    "Xte, Yte = linearRegrFunction(n,D,low_D,high_D,w,noise_std)\n",
    "\n",
    "lam_list = np.logspace(1e-8, 1.0, 50)\n",
    "tr_err = []\n",
    "te_err = []\n",
    "\n",
    "for lam in lam_list:\n",
    "\n",
    "    # Train RLS\n",
    "    w_RLS=regularizedLSTrain(Xtr,Ytr,lam)\n",
    "\n",
    "    # Compute predictions on training and test set\n",
    "    Ytr_pred = regularizedLSTest(w_RLS, Xtr)\n",
    "    Yte_pred = regularizedLSTest(w_RLS, Xte)\n",
    "\n",
    "    # Compute training and test error and store them on tr_err and te_err\n",
    "    train_err = calcError(Ytr_pred, Ytr)\n",
    "    test_err = calcError(Yte_pred, Yte)\n",
    "    tr_err.append(train_err)\n",
    "    te_err.append(test_err)\n",
    "\n",
    "# Plot training and test error\n",
    "_, ax = plt.subplots()\n",
    "ax.set_title(\"Training/Test error\")\n",
    "ax.plot(lam_list, tr_err, '-', c=\"blue\", label=\"training error\")\n",
    "ax.plot(lam_list, te_err, '-', c=\"orange\", label=\"test error\")\n",
    "ax.legend(loc=\"best\")\n",
    "ax.set_xlabel(\"$\\lambda$\")\n",
    "ax.set_ylabel(\"MSE\")\n",
    "ax.set_xscale(\"log\")\n"
   ]
  },
  {
   "cell_type": "markdown",
   "metadata": {
    "id": "B-VoM0TcwROe"
   },
   "source": [
    "Explain here what happens when $\\lambda$ increases: "
   ]
  },
  {
   "cell_type": "markdown",
   "metadata": {
    "id": "7Z3lBqn4wROe"
   },
   "source": [
    "Now fix $\\lambda = 0.1$ and change noise level"
   ]
  },
  {
   "cell_type": "code",
   "execution_count": 11,
   "metadata": {
    "colab": {
     "base_uri": "https://localhost:8080/",
     "height": 107
    },
    "id": "1ABk3tWBwROf",
    "outputId": "0472088f-58c1-413c-9e37-65064189fc0b"
   },
   "outputs": [
    {
     "data": {
      "text/plain": [
       "'\\nn = 1000\\nD = 10\\nlow_D = [-5] * D\\nhigh_D = [5] * D\\nrnd_state = np.random.RandomState(42)\\nw = np.array([i for i in range(D)]).reshape(D, 1)\\n\\nlam = 1e-1\\nnoise_level = np.linspace(1e-7, 1e-1, 1000)\\n\\n# Data generation\\n\\ntr_err = []\\nte_err = []\\n\\nfor noise in noise_level:\\n\\n    Xtr, Ytr = ...\\n    Xte, Yte = ...\\n\\n    # Train RLS\\n    \\n    # Compute predictions on training and test set\\n    \\n    # Compute training and test error and store them on tr_err and te_err\\n    \\n    \\n# Plot training and test error\\n_, ax = plt.subplots()\\nax.set_title(\"Training/Test error\")\\nax.plot(noise_level, tr_err, \\'-\\', c=\"blue\", label=\"training error\")\\nax.plot(noise_level, te_err, \\'-\\', c=\"orange\", label=\"test error\")\\nax.legend(loc=\"best\")\\nax.set_xlabel(\"noise level\")\\nax.set_ylabel(\"MSE\")\\nax.set_yscale(\"log\")'"
      ]
     },
     "execution_count": 11,
     "metadata": {},
     "output_type": "execute_result"
    }
   ],
   "source": [
    "# ignoring the exercise as stated by Rando on Teams\n",
    "'''\n",
    "n = 1000\n",
    "D = 10\n",
    "low_D = [-5] * D\n",
    "high_D = [5] * D\n",
    "rnd_state = np.random.RandomState(42)\n",
    "w = np.array([i for i in range(D)]).reshape(D, 1)\n",
    "\n",
    "lam = 1e-1\n",
    "noise_level = np.linspace(1e-7, 1e-1, 1000)\n",
    "\n",
    "# Data generation\n",
    "\n",
    "tr_err = []\n",
    "te_err = []\n",
    "\n",
    "for noise in noise_level:\n",
    "\n",
    "    Xtr, Ytr = ...\n",
    "    Xte, Yte = ...\n",
    "\n",
    "    # Train RLS\n",
    "    \n",
    "    # Compute predictions on training and test set\n",
    "    \n",
    "    # Compute training and test error and store them on tr_err and te_err\n",
    "    \n",
    "    \n",
    "# Plot training and test error\n",
    "_, ax = plt.subplots()\n",
    "ax.set_title(\"Training/Test error\")\n",
    "ax.plot(noise_level, tr_err, '-', c=\"blue\", label=\"training error\")\n",
    "ax.plot(noise_level, te_err, '-', c=\"orange\", label=\"test error\")\n",
    "ax.legend(loc=\"best\")\n",
    "ax.set_xlabel(\"noise level\")\n",
    "ax.set_ylabel(\"MSE\")\n",
    "ax.set_yscale(\"log\")'''\n"
   ]
  },
  {
   "cell_type": "markdown",
   "metadata": {
    "id": "jGAWmsDfwROf"
   },
   "source": [
    "Report your observations here: *In the first exercise we can see how the MSE gets lower with an increasing lambda*"
   ]
  },
  {
   "cell_type": "markdown",
   "metadata": {
    "id": "PyoZn6pJwROg"
   },
   "source": [
    "## Task 3: K-Fold Cross Validation for RLS\n",
    "Now, we want to implement the K-Fold Cross Validation for RLS. \n",
    "\n",
    "In specific we want to implement the `KFoldCVRLS` function which, given a training set **Xtr** and **Ytr**, a number of folds **KF** and a set of values for $\\lambda$ (**regpar_list**) and returns the $\\lambda$ which minimize the average validation error **bestlam**, the mean validation error **val_mean**, the validation error variance **val_var**, the mean training error **tr_mean** and the training error variance **tr_var**.\n",
    "\n",
    "`bestlam, val_mean, val_var, tr_mean, tr_var = KFoldCVRLS(Xtr, Ytr, KF, regpar_list)`\n",
    "\n",
    "**Hint:** this function is very similar to K-Fold Cross-Validation algorithm for KNN (Lab1)"
   ]
  },
  {
   "cell_type": "code",
   "execution_count": 12,
   "metadata": {
    "id": "zokOn_bDwROg"
   },
   "outputs": [],
   "source": [
    "def KFoldCVRLS(Xtr, Ytr, KF, regpar_list):\n",
    "    if KF <= 1:\n",
    "        raise Exception(\"Please supply a number of fold > 1\")\n",
    "\n",
    "    # Ensures that regpar_list is a numpy array\n",
    "    regpar_list = np.array(regpar_list)\n",
    "    num_regpar = regpar_list.size\n",
    "\n",
    "    n_tot = Xtr.shape[0]\n",
    "    n_val = int(n_tot // KF)\n",
    "\n",
    "    # We want to compute 1 error for each `k` and each fold\n",
    "    tr_errors = np.zeros((num_regpar, KF))\n",
    "    val_errors = np.zeros((num_regpar, KF))\n",
    "\n",
    "    for idx, regpar in enumerate(regpar_list):\n",
    "        # `split_idx`: a list of arrays, each containing the validation indices for 1 fold\n",
    "        rand_idx = np.random.choice(n_tot, size=n_tot, replace=False)\n",
    "        split_idx = np.array_split(rand_idx, KF)\n",
    "        for fold in range(KF):\n",
    "            # Set the indices in boolean mask for all validation samples to `True`\n",
    "            val_mask = np.zeros(n_tot, dtype=bool)\n",
    "            val_mask[split_idx[fold]] = True\n",
    "\n",
    "            # Use the boolean mask to split X, Y in training and validation part\n",
    "\n",
    "            X = Xtr[~val_mask] # training input \n",
    "            Y = Ytr[~val_mask] # training output \n",
    "            X_val = Xtr[val_mask] # validation input\n",
    "            Y_val = Ytr[val_mask] # validation output\n",
    "            \n",
    "            # Train a RLS model for a single fold, and the given value of `regpar`\n",
    "            currW = regularizedLSTrain(X,Y,regpar) \n",
    "            \n",
    "            # Compute the training error of the RLS regression for the given value of regpar\n",
    "            YpredTR = regularizedLSTest(currW, X)\n",
    "            tr_errors[idx, fold] = calcError(YpredTR, Y)\n",
    "\n",
    "            # Compute the validation error of the RLS regression for the given value of regpar\n",
    "            YpredVAL = regularizedLSTest(currW, X_val)\n",
    "            val_errors[idx, fold] = calcError(YpredVAL, Y_val)\n",
    "            \n",
    "    # Calculate error statistics along the repetitions\n",
    "    tr_mean = np.mean(tr_errors, axis=1)\n",
    "    tr_var = np.var(tr_errors, axis=1)\n",
    "    val_mean = np.mean(val_errors, axis=1)\n",
    "    val_var = np.var(val_errors, axis=1)\n",
    "    \n",
    "    bestlam_idx = np.argmin(val_mean)\n",
    "    bestlam = regpar_list[bestlam_idx]\n",
    "\n",
    "    return bestlam, val_mean, val_var, tr_mean, tr_var"
   ]
  },
  {
   "cell_type": "markdown",
   "metadata": {
    "id": "eTPexG3LwROh"
   },
   "source": [
    "Use `KFoldCVRLS` to find the best regularization parameter "
   ]
  },
  {
   "cell_type": "code",
   "execution_count": 13,
   "metadata": {
    "colab": {
     "base_uri": "https://localhost:8080/",
     "height": 303
    },
    "id": "cQW2oZeNwROh",
    "outputId": "a6779681-1508-4e29-b91d-620e993310ab"
   },
   "outputs": [
    {
     "data": {
      "text/plain": [
       "<matplotlib.legend.Legend at 0x2817bc9a340>"
      ]
     },
     "execution_count": 13,
     "metadata": {},
     "output_type": "execute_result"
    },
    {
     "data": {
      "image/png": "[encoded data removed]",
      "text/plain": [
       "<Figure size 432x288 with 1 Axes>"
      ]
     },
     "metadata": {
      "needs_background": "light"
     },
     "output_type": "display_data"
    }
   ],
   "source": [
    "n = 1000\n",
    "D = 1\n",
    "sigma_noise = 0.5\n",
    "truew = np.random.randn(D, 1)\n",
    "reg_pars = np.logspace(-5, 1, 100)\n",
    "KF = 5\n",
    "\n",
    "low_D = [-3] * D\n",
    "high_D = [3] * D\n",
    "\n",
    "# Generate training set\n",
    "Xtr, Ytr = linearRegrFunction(n,D,low_D,high_D,truew,sigma_noise)\n",
    "\n",
    "# Compute best lambda\n",
    "bestlam, Vm, Vs, Tm, Ts = KFoldCVRLS(Xtr, Ytr, KF, reg_pars)\n",
    "\n",
    "\n",
    "# Plot training and validation error\n",
    "_, ax = plt.subplots()\n",
    "ax.plot(reg_pars, Vm, '-o', label=\"Validation error\")\n",
    "ax.plot(reg_pars, Tm, '-o', label=\"Train error\")\n",
    "ax.axvline(bestlam, linestyle=\"--\", c=\"red\", alpha=0.7, label=\"best $\\lambda$\")\n",
    "ax.set_xscale(\"log\")\n",
    "ax.set_xlabel(\"$\\lambda$\")\n",
    "ax.set_ylabel(\"MSE\")\n",
    "ax.legend(loc=\"best\")"
   ]
  },
  {
   "cell_type": "markdown",
   "metadata": {
    "id": "jDHFkt0GwROi"
   },
   "source": [
    "Plot the regression curve using the best $\\lambda$ (found with `KFoldCVRLS`) and using the worst $\\lambda$"
   ]
  },
  {
   "cell_type": "code",
   "execution_count": 14,
   "metadata": {
    "colab": {
     "base_uri": "https://localhost:8080/",
     "height": 315
    },
    "id": "2Cn-5EfrwROi",
    "outputId": "1645ea4a-504e-48be-95dc-b27d5c00ad42"
   },
   "outputs": [
    {
     "name": "stdout",
     "output_type": "stream",
     "text": [
      "[--] best lambda found: 1.1497569953977357e-05\n"
     ]
    },
    {
     "data": {
      "text/plain": [
       "<matplotlib.legend.Legend at 0x2817beefee0>"
      ]
     },
     "execution_count": 14,
     "metadata": {},
     "output_type": "execute_result"
    },
    {
     "data": {
      "image/png": "[encoded data removed]",
      "text/plain": [
       "<Figure size 432x288 with 1 Axes>"
      ]
     },
     "metadata": {
      "needs_background": "light"
     },
     "output_type": "display_data"
    }
   ],
   "source": [
    "# best and worst lambda are the same????\n",
    "worst_lam = 10\n",
    "print(\"[--] best lambda found: {}\".format(bestlam))\n",
    "w_best = regularizedLSTrain(Xtr,Ytr,bestlam)\n",
    "Ypred_best = regularizedLSTest(w_best, Xtr)\n",
    "\n",
    "w_worst = regularizedLSTrain(Xtr,Ytr,worst_lam)\n",
    "Ypred_worst = regularizedLSTest(w_worst, Xtr)\n",
    "\n",
    "_, ax = plt.subplots()\n",
    "ax.scatter(Xtr, Ytr)\n",
    "ax.plot(Xtr, Ypred_best, '-',c=\"red\", label=\"with best $\\lambda$\")\n",
    "ax.plot(Xtr, Ypred_worst, '-',c=\"black\", label=\"with worst $\\lambda$\")\n",
    "ax.set_xlabel(\"$x$\")\n",
    "ax.set_ylabel(\"$y$\")\n",
    "ax.legend(loc=\"best\")"
   ]
  },
  {
   "cell_type": "markdown",
   "metadata": {
    "id": "8cnMcOVCwROi"
   },
   "source": [
    "Use the best $\\lambda$ found to train the model on the full training set and compute the test error on the following test set.   "
   ]
  },
  {
   "cell_type": "code",
   "execution_count": 15,
   "metadata": {
    "colab": {
     "base_uri": "https://localhost:8080/"
    },
    "id": "mB_5aa_EwROj",
    "outputId": "3230df43-ae2b-47f8-eba3-c30c7bb9598a"
   },
   "outputs": [
    {
     "name": "stdout",
     "output_type": "stream",
     "text": [
      "[--] best lambda found: 1.1497569953977357e-05\n",
      "[--] Test error: 0.2544093556391116\n"
     ]
    }
   ],
   "source": [
    "Xte, Yte = linearRegrFunction(200, D, low_D, high_D, truew, sigma_noise)\n",
    "\n",
    "print(\"[--] best lambda found: {}\".format(bestlam))\n",
    "\n",
    "w_best = regularizedLSTrain(Xte,Yte,bestlam)\n",
    "Ypred_best = regularizedLSTest(w_best, Xte)\n",
    "\n",
    "test_err = calcError(Ypred_best, Yte)\n",
    "\n",
    "print(\"[--] Test error: {}\".format(test_err))\n"
   ]
  },
  {
   "cell_type": "markdown",
   "metadata": {
    "id": "hQL8Niv7wROj"
   },
   "source": [
    "### Repeat the procedure on a different dataset\n",
    "\n",
    "Create new training **and** test datasets, sampled in a non-symmetric range (for example you can set the `low_D` and `high_D` parameters of the `linearRegrFunction` function to 2 and 5).\n",
    "\n",
    "Then repeat the K-fold CV procedure, and check whether the best regularization parameter changes!"
   ]
  },
  {
   "cell_type": "code",
   "execution_count": 16,
   "metadata": {
    "colab": {
     "base_uri": "https://localhost:8080/",
     "height": 582
    },
    "id": "MhFfIOsOwROk",
    "outputId": "7bd0e5d2-a0f4-49ae-8f89-83a71714c834"
   },
   "outputs": [
    {
     "name": "stdout",
     "output_type": "stream",
     "text": [
      "[--] best lambda found: 0.0005722367659350221\n",
      "[--] Test error: 0.2527427697133408\n"
     ]
    },
    {
     "data": {
      "image/png": "[encoded data removed]",
      "text/plain": [
       "<Figure size 432x288 with 1 Axes>"
      ]
     },
     "metadata": {
      "needs_background": "light"
     },
     "output_type": "display_data"
    },
    {
     "data": {
      "image/png": "[encoded data removed]",
      "text/plain": [
       "<Figure size 432x288 with 1 Axes>"
      ]
     },
     "metadata": {
      "needs_background": "light"
     },
     "output_type": "display_data"
    }
   ],
   "source": [
    "n = 1000\n",
    "D = 1\n",
    "sigma_noise = 0.5\n",
    "truew = np.random.randn(D, 1)\n",
    "reg_pars = np.logspace(-5, 1, 100)\n",
    "KF = 5\n",
    "\n",
    "low_D = [2] * D   # low_D and high_D changed as requested\n",
    "high_D = [5] * D\n",
    "\n",
    "# Generate training set\n",
    "Xtr, Ytr = linearRegrFunction(n,D,low_D,high_D,truew,sigma_noise)\n",
    "# Generate test set\n",
    "Xte, Yte = linearRegrFunction(n,D,low_D,high_D,truew,sigma_noise)\n",
    "\n",
    "# Compute best lambda\n",
    "bestlam, Vm, Vs, Tm, Ts = KFoldCVRLS(Xtr, Ytr, KF, reg_pars)\n",
    "\n",
    "\n",
    "# Plot training and validation error\n",
    "_, ax = plt.subplots()\n",
    "ax.plot(reg_pars, Vm, '-o', label=\"Validation error\")\n",
    "ax.plot(reg_pars, Tm, '-o', label=\"Train error\")\n",
    "ax.axvline(bestlam, linestyle=\"--\", c=\"red\", alpha=0.7, label=\"best $\\lambda$\")\n",
    "ax.set_xscale(\"log\")\n",
    "ax.set_xlabel(\"$\\lambda$\")\n",
    "ax.set_ylabel(\"MSE\")\n",
    "ax.legend(loc=\"best\")\n",
    "\n",
    "print(\"[--] best lambda found: {}\".format(bestlam))\n",
    "w_best = regularizedLSTrain(Xtr,Ytr,bestlam)\n",
    "Ypred_best = regularizedLSTest(w_best, Xtr)\n",
    "\n",
    "_, ax = plt.subplots()\n",
    "ax.scatter(Xtr, Ytr)\n",
    "ax.plot(Xtr, Ypred_best, '-',c=\"red\", label=\"with best $\\lambda$\")\n",
    "ax.set_xlabel(\"$x$\")\n",
    "ax.set_ylabel(\"$y$\")\n",
    "ax.legend(loc=\"best\")\n",
    "\n",
    "w_best = regularizedLSTrain(Xte,Yte,bestlam)\n",
    "Ypred_best = regularizedLSTest(w_best, Xte)\n",
    "\n",
    "test_err = calcError(Ypred_best, Yte)\n",
    "\n",
    "print(\"[--] Test error: {}\".format(test_err))\n"
   ]
  }
 ],
 "metadata": {
  "colab": {
   "collapsed_sections": [],
   "name": "Lab3_RLS.ipynb",
   "provenance": []
  },
  "interpreter": {
   "hash": "f26523b67ea2835ee6a77b36d2cc412a491957c6cdc7ecd6fb71972c20460352"
  },
  "kernelspec": {
   "display_name": "Python 3",
   "language": "python",
   "name": "python3"
  },
  "language_info": {
   "codemirror_mode": {
    "name": "ipython",
    "version": 3
   },
   "file_extension": ".py",
   "mimetype": "text/x-python",
   "name": "python",
   "nbconvert_exporter": "python",
   "pygments_lexer": "ipython3",
   "version": "3.8.8"
  }
 },
 "nbformat": 4,
 "nbformat_minor": 4
}
